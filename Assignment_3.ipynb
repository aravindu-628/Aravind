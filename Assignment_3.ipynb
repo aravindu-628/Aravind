{
  "nbformat": 4,
  "nbformat_minor": 0,
  "metadata": {
    "colab": {
      "name": "Assignment-3.ipynb",
      "provenance": []
    },
    "kernelspec": {
      "name": "python3",
      "display_name": "Python 3"
    }
  },
  "cells": [
    {
      "cell_type": "code",
      "metadata": {
        "id": "Z6_ItYqk-vID",
        "outputId": "886a509e-9c91-4bf9-a668-d6dc10e2c27f",
        "colab": {
          "base_uri": "https://localhost:8080/"
        }
      },
      "source": [
        "#Question-1\n",
        "import numpy as np\n",
        "a=np.arange(2,50,3)\n",
        "print(a)"
      ],
      "execution_count": 1,
      "outputs": [
        {
          "output_type": "stream",
          "text": [
            "[ 2  5  8 11 14 17 20 23 26 29 32 35 38 41 44 47]\n"
          ],
          "name": "stdout"
        }
      ]
    },
    {
      "cell_type": "code",
      "metadata": {
        "id": "Ac7tZRX0_LLp",
        "outputId": "7b277beb-0150-4b96-8138-a5eeac9a4b4a",
        "colab": {
          "base_uri": "https://localhost:8080/"
        }
      },
      "source": [
        "#Qusetion-2\n",
        "import numpy as np\n",
        "lst1=[]\n",
        "print(\"Enter your 1st list numbers:\")\n",
        "for i in range(5):\n",
        "    a=int(input())\n",
        "    lst1.append(a)\n",
        "a1=np.array(lst1)\n",
        "lst2=[]\n",
        "print(\"Enter your 2nd list numbers:\")\n",
        "for i in range(5):\n",
        "    b=int(input())\n",
        "    lst2.append(b)\n",
        "a2=np.array(lst2)\n",
        "c=np.concatenate([a1, a2])\n",
        "print(\"Concatination:\\n\",c)\n",
        "d=np.sort(c)\n",
        "print(\"sorted array:\\n\",d)\n"
      ],
      "execution_count": 4,
      "outputs": [
        {
          "output_type": "stream",
          "text": [
            "Enter your 1st list numbers:\n",
            "3\n",
            "8\n",
            "24\n",
            "1\n",
            "659\n",
            "Enter your 2nd list numbers:\n",
            "70536\n",
            "23\n",
            "2\n",
            "12\n",
            "435\n",
            "Concatination:\n",
            " [    3     8    24     1   659 70536    23     2    12   435]\n",
            "sorted array:\n",
            " [    1     2     3     8    12    23    24   435   659 70536]\n"
          ],
          "name": "stdout"
        }
      ]
    },
    {
      "cell_type": "code",
      "metadata": {
        "id": "W9RD96JJAoGM",
        "outputId": "ff34d707-1f29-4136-c414-afa809530851",
        "colab": {
          "base_uri": "https://localhost:8080/"
        }
      },
      "source": [
        "#Question-3\n",
        "import numpy as np\n",
        "a=np.array([[1,2,3],[4,5,6],[7,8,9],[10,11,12],[13,14,15]])\n",
        "print(a)\n",
        "print(\"dimensions of the given array is: \", a.ndim)\n",
        "print(\"Size of given array is: \", a.size)"
      ],
      "execution_count": 6,
      "outputs": [
        {
          "output_type": "stream",
          "text": [
            "[[ 1  2  3]\n",
            " [ 4  5  6]\n",
            " [ 7  8  9]\n",
            " [10 11 12]\n",
            " [13 14 15]]\n",
            "dimensions of the given array is:  2\n",
            "Size of given array is:  15\n"
          ],
          "name": "stdout"
        }
      ]
    },
    {
      "cell_type": "code",
      "metadata": {
        "id": "nLp3Z__uBMTg",
        "outputId": "15cf8f82-7239-44b2-f2a8-dc996529e7a5",
        "colab": {
          "base_uri": "https://localhost:8080/"
        }
      },
      "source": [
        "#question-4\n",
        "arr = np. array([0, 1, 2, 3, 4, 5, 6, 7, 8, 9])\n",
        "arr_2d = np. reshape(arr, (2, 5))\n",
        "print(arr_2d)"
      ],
      "execution_count": 7,
      "outputs": [
        {
          "output_type": "stream",
          "text": [
            "[[0 1 2 3 4]\n",
            " [5 6 7 8 9]]\n"
          ],
          "name": "stdout"
        }
      ]
    },
    {
      "cell_type": "code",
      "metadata": {
        "id": "sepsaQJgB5j-",
        "outputId": "3a6cc280-816b-4525-ead7-8f634ac9345d",
        "colab": {
          "base_uri": "https://localhost:8080/"
        }
      },
      "source": [
        "#Question-5\n",
        "import numpy as np\n",
        "a = np.array([[11, 12],\n",
        "              [13, 14]])\n",
        "b = np.array([[25, 36],\n",
        "              [77, 48]])\n",
        "print(\"Verical stacking\")\n",
        "print(np.vstack((a, b)))\n",
        "print()\n",
        "print(\"Horizontal stacking\")\n",
        "print(np.hstack((a, b)))"
      ],
      "execution_count": 11,
      "outputs": [
        {
          "output_type": "stream",
          "text": [
            "Verical stacking1\n",
            "[[11 12]\n",
            " [13 14]\n",
            " [25 36]\n",
            " [77 48]]\n",
            "\n",
            "Horizontal stacking\n",
            "[[11 12 25 36]\n",
            " [13 14 77 48]]\n"
          ],
          "name": "stdout"
        }
      ]
    },
    {
      "cell_type": "code",
      "metadata": {
        "id": "O07BQLtBCoCw"
      },
      "source": [
        ""
      ],
      "execution_count": null,
      "outputs": []
    }
  ]
}