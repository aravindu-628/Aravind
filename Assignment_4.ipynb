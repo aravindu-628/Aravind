{
  "nbformat": 4,
  "nbformat_minor": 0,
  "metadata": {
    "colab": {
      "name": "Assignment-4.ipynb",
      "provenance": []
    },
    "kernelspec": {
      "name": "python3",
      "display_name": "Python 3"
    }
  },
  "cells": [
    {
      "cell_type": "code",
      "metadata": {
        "id": "TorbV-B7C8kU",
        "outputId": "b50349d8-4dcf-4401-d833-dec1daae0eb0",
        "colab": {
          "base_uri": "https://localhost:8080/"
        }
      },
      "source": [
        "#Question-1\n",
        "import pandas as pd\n",
        "print(pd.__version__)"
      ],
      "execution_count": 1,
      "outputs": [
        {
          "output_type": "stream",
          "text": [
            "1.1.4\n"
          ],
          "name": "stdout"
        }
      ]
    },
    {
      "cell_type": "code",
      "metadata": {
        "id": "-TcoktXHDXhm",
        "outputId": "c6d4a599-0896-42d0-a8ce-fa58e72b8621",
        "colab": {
          "base_uri": "https://localhost:8080/"
        }
      },
      "source": [
        "#Question-2\n",
        "import pandas as pd\n",
        "import numpy as np\n",
        "arr=np.array([111,42,2563,458903,1225])\n",
        "srr=pd.Series(arr)\n",
        "print(srr)"
      ],
      "execution_count": 3,
      "outputs": [
        {
          "output_type": "stream",
          "text": [
            "0       111\n",
            "1        42\n",
            "2      2563\n",
            "3    458903\n",
            "4      1225\n",
            "dtype: int64\n"
          ],
          "name": "stdout"
        }
      ]
    },
    {
      "cell_type": "code",
      "metadata": {
        "id": "2xWJBSLBDxQl",
        "outputId": "de8d2ddc-d6c9-40ad-9168-0eacd29f4a87",
        "colab": {
          "base_uri": "https://localhost:8080/"
        }
      },
      "source": [
        "#Question-3\n",
        "import pandas as pd\n",
        "import numpy as np\n",
        "arr=np.array([111,42,2563,458903,1225])\n",
        "srr=pd.Series(arr)\n",
        "d1 = srr.to_frame().reset_index()\n",
        "print(d1)"
      ],
      "execution_count": 5,
      "outputs": [
        {
          "output_type": "stream",
          "text": [
            "   index       0\n",
            "0      0     111\n",
            "1      1      42\n",
            "2      2    2563\n",
            "3      3  458903\n",
            "4      4    1225\n"
          ],
          "name": "stdout"
        }
      ]
    },
    {
      "cell_type": "code",
      "metadata": {
        "id": "XS-L_x7UENTq",
        "outputId": "843e0921-fb97-432e-9d9a-ccd90de05ed8",
        "colab": {
          "base_uri": "https://localhost:8080/"
        }
      },
      "source": [
        "#Question-4\n",
        "import seaborn as sns\n",
        "a=sns.get_dataset_names()\n",
        "print(a)\n",
        "print()\n",
        "b=sns.load_dataset(\"mpg\")\n",
        "\n",
        "print(b)"
      ],
      "execution_count": 18,
      "outputs": [
        {
          "output_type": "stream",
          "text": [
            "['anagrams', 'anscombe', 'attention', 'brain_networks', 'car_crashes', 'diamonds', 'dots', 'exercise', 'flights', 'fmri', 'gammas', 'geyser', 'iris', 'mpg', 'penguins', 'planets', 'tips', 'titanic']\n",
            "\n",
            "      mpg  cylinders  ...  origin                       name\n",
            "0    18.0          8  ...     usa  chevrolet chevelle malibu\n",
            "1    15.0          8  ...     usa          buick skylark 320\n",
            "2    18.0          8  ...     usa         plymouth satellite\n",
            "3    16.0          8  ...     usa              amc rebel sst\n",
            "4    17.0          8  ...     usa                ford torino\n",
            "..    ...        ...  ...     ...                        ...\n",
            "393  27.0          4  ...     usa            ford mustang gl\n",
            "394  44.0          4  ...  europe                  vw pickup\n",
            "395  32.0          4  ...     usa              dodge rampage\n",
            "396  28.0          4  ...     usa                ford ranger\n",
            "397  31.0          4  ...     usa                 chevy s-10\n",
            "\n",
            "[398 rows x 9 columns]\n"
          ],
          "name": "stdout"
        }
      ]
    },
    {
      "cell_type": "code",
      "metadata": {
        "id": "M2ynToJ4G5Xg",
        "outputId": "6345fd24-6034-48ec-966b-2409b04219c9",
        "colab": {
          "base_uri": "https://localhost:8080/"
        }
      },
      "source": [
        "#Question-5\n",
        "import seaborn as sns\n",
        "a=sns.load_dataset('mpg')\n",
        "print(mpg['origin'].unique())"
      ],
      "execution_count": 24,
      "outputs": [
        {
          "output_type": "stream",
          "text": [
            "['usa' 'japan' 'europe']\n"
          ],
          "name": "stdout"
        }
      ]
    },
    {
      "cell_type": "code",
      "metadata": {
        "id": "Tf0Ypr5ZHwkc",
        "outputId": "dfcea477-84b7-4b35-e530-ea1a81bb7a0a",
        "colab": {
          "base_uri": "https://localhost:8080/"
        }
      },
      "source": [
        "#Question-6\n",
        "import seaborn as sns\n",
        "a=sns.load_dataset('mpg')\n",
        "print(a[a['origin']=='usa'])"
      ],
      "execution_count": 27,
      "outputs": [
        {
          "output_type": "stream",
          "text": [
            "      mpg  cylinders  ...  origin                       name\n",
            "0    18.0          8  ...     usa  chevrolet chevelle malibu\n",
            "1    15.0          8  ...     usa          buick skylark 320\n",
            "2    18.0          8  ...     usa         plymouth satellite\n",
            "3    16.0          8  ...     usa              amc rebel sst\n",
            "4    17.0          8  ...     usa                ford torino\n",
            "..    ...        ...  ...     ...                        ...\n",
            "392  27.0          4  ...     usa           chevrolet camaro\n",
            "393  27.0          4  ...     usa            ford mustang gl\n",
            "395  32.0          4  ...     usa              dodge rampage\n",
            "396  28.0          4  ...     usa                ford ranger\n",
            "397  31.0          4  ...     usa                 chevy s-10\n",
            "\n",
            "[249 rows x 9 columns]\n"
          ],
          "name": "stdout"
        }
      ]
    }
  ]
}