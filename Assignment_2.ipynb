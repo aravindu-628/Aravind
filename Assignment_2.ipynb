{
  "nbformat": 4,
  "nbformat_minor": 0,
  "metadata": {
    "colab": {
      "name": "Assignment-2.ipynb",
      "provenance": []
    },
    "kernelspec": {
      "name": "python3",
      "display_name": "Python 3"
    }
  },
  "cells": [
    {
      "cell_type": "code",
      "metadata": {
        "id": "2SBu1ayxYa7M"
      },
      "source": [
        "#Question-1\n",
        "lis = [] \n",
        "for i in range(10):\n",
        "  lis.append(int(input()))\n",
        "  \n",
        " \n",
        "out = [] \n",
        "  \n",
        "for num in lis:  \n",
        "      \n",
        "     \n",
        "    if num % 2 == 0:  \n",
        "        out.append(num) \n",
        "          \n",
        "  \n",
        " \n",
        "print(out) "
      ],
      "execution_count": null,
      "outputs": []
    },
    {
      "cell_type": "code",
      "metadata": {
        "id": "VSxfIwymInek"
      },
      "source": [
        "#Question-3\n",
        "n=int(input(\"\"))\n",
        "d = dict()\n",
        "for i in range(1,n+1):\n",
        "    d[i]=i*i\n",
        "print(d)"
      ],
      "execution_count": null,
      "outputs": []
    },
    {
      "cell_type": "code",
      "metadata": {
        "id": "VzU4SGJOJiV5"
      },
      "source": [
        "# Question-4\n",
        "pos = {\"x\":0,\"y\":0}\n",
        "\n",
        "n = int(input(\"Input\\n\"))\n",
        "for i in range (n):\n",
        "    \n",
        "    \n",
        "    move = input().split(\" \")\n",
        "    \n",
        "    if move[0].lower() == \"up\":\n",
        "        pos[\"y\"] += int(move[1])\n",
        "    elif move[0].lower() == \"down\":\n",
        "        pos[\"y\"] -= int(move[1])\n",
        "    elif move[0].lower() == \"left\":\n",
        "        pos[\"x\"] -= int(move[1])\n",
        "    elif move[0].lower() == \"right\":\n",
        "        pos[\"x\"] += int(move[1])\n",
        "\n",
        "\n",
        "print(\"Output\\n\",int(round((pos[\"x\"]**2 + pos[\"y\"]**2)**0.5)))"
      ],
      "execution_count": null,
      "outputs": []
    }
  ]
}