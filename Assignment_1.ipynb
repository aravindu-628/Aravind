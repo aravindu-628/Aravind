{
  "nbformat": 4,
  "nbformat_minor": 0,
  "metadata": {
    "colab": {
      "name": "Assignment-1.ipynb",
      "provenance": []
    },
    "kernelspec": {
      "name": "python3",
      "display_name": "Python 3"
    }
  },
  "cells": [
    {
      "cell_type": "code",
      "metadata": {
        "id": "RoDNZMRyJ9gr"
      },
      "source": [
        "#Question-1\n",
        "x = \"OBANWRI\"\n",
        "if x == \"OBANWRI\":\n",
        "  print(\"RAINBOW\")"
      ],
      "execution_count": null,
      "outputs": []
    },
    {
      "cell_type": "code",
      "metadata": {
        "id": "Qv1lqCgzKyMo"
      },
      "source": [
        "#Question-2\n",
        "print(\"LETS UPGRADE\")"
      ],
      "execution_count": null,
      "outputs": []
    },
    {
      "cell_type": "code",
      "metadata": {
        "id": "k9cTTQotK2fM"
      },
      "source": [
        "#Question-3\n",
        "x=int(input(\"cost price \"))\n",
        "y=int(input(\"selling price \"))\n",
        "if y>x:\n",
        "  print(\"Profit\")\n",
        "elif y<x:\n",
        "  print(\"Loss\")\n",
        "else:\n",
        "  print(\"Neither\")"
      ],
      "execution_count": null,
      "outputs": []
    },
    {
      "cell_type": "code",
      "metadata": {
        "id": "KEWIY536LAFx"
      },
      "source": [
        "#Question-4\n",
        "x=int(input(\"Euros \"))\n",
        "Rupees=x*80\n",
        "print(Rupees)"
      ],
      "execution_count": null,
      "outputs": []
    }
  ]
}